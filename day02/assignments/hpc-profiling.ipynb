{
 "cells": [
  {
   "cell_type": "markdown",
   "id": "f70d89c5",
   "metadata": {},
   "source": [
    "<h1 align=\"center\">$\\textbf{Python performance exercises}$</h1>"
   ]
  },
  {
   "cell_type": "markdown",
   "id": "b73f658f",
   "metadata": {},
   "source": [
    "## $\\textbf{Python best practices exercises}$"
   ]
  },
  {
   "cell_type": "markdown",
   "id": "c5d1a3dc",
   "metadata": {},
   "source": [
    "### $\\textbf{Exercise 1}$\n",
    "\n",
    "$\\textbf{considering the following function for concatenating list strings with deliter.}$"
   ]
  },
  {
   "cell_type": "code",
   "execution_count": 1,
   "id": "6afb1b12",
   "metadata": {},
   "outputs": [],
   "source": [
    "def ft_concatenate(l_strings, d):\n",
    "    \"\"\"concatenate list of strings into one string separated by delimeter\"\"\"\n",
    "    \n",
    "    res = l_strings[0]\n",
    "    for e in l_strings[1:]:\n",
    "        res = res + d + e\n",
    "    return res"
   ]
  },
  {
   "cell_type": "markdown",
   "id": "ac1a6004",
   "metadata": {},
   "source": [
    "- profile the function and identify the bottlenecks.\n",
    "- improve speed up of the function\n",
    "*Hint: you may need to look to the string functions in python documentation*"
   ]
  },
  {
   "cell_type": "markdown",
   "id": "c341d251",
   "metadata": {},
   "source": [
    "### $\\textbf{Profile the function and identify the bottlenecks}$"
   ]
  },
  {
   "cell_type": "code",
   "execution_count": 2,
   "id": "3ae6ee95",
   "metadata": {},
   "outputs": [
    {
     "name": "stdout",
     "output_type": "stream",
     "text": [
      "170 ns ± 4.5 ns per loop (mean ± std. dev. of 7 runs, 10,000,000 loops each)\n"
     ]
    }
   ],
   "source": [
    "string = [\"concatenate list of strings into one string separated by delimeter\"]\n",
    "name = \"start\"\n",
    "%timeit ft_concatenate(string, name)"
   ]
  },
  {
   "cell_type": "code",
   "execution_count": 3,
   "id": "fabd6fd2",
   "metadata": {},
   "outputs": [
    {
     "name": "stdout",
     "output_type": "stream",
     "text": [
      " "
     ]
    }
   ],
   "source": [
    "%prun -s cumulative ft_concatenate(string, name)"
   ]
  },
  {
   "cell_type": "code",
   "execution_count": 4,
   "id": "b3017570",
   "metadata": {},
   "outputs": [],
   "source": [
    "%reload_ext line_profiler"
   ]
  },
  {
   "cell_type": "code",
   "execution_count": 5,
   "id": "92175efa",
   "metadata": {},
   "outputs": [],
   "source": [
    "%lprun -f ft_concatenate ft_concatenate(string, name)"
   ]
  },
  {
   "cell_type": "markdown",
   "id": "cd737e35",
   "metadata": {},
   "source": [
    "The code line above shows that the initialization(res variable) and the loop inside the function **ft_concatenate** consumes almost the same time."
   ]
  },
  {
   "cell_type": "markdown",
   "id": "5a2df589",
   "metadata": {},
   "source": [
    "### $\\textbf{Improve speed up of the function\n",
    "}$"
   ]
  },
  {
   "cell_type": "code",
   "execution_count": 6,
   "id": "f8e327f5",
   "metadata": {},
   "outputs": [],
   "source": [
    "def ft_concatenate_join(l_strings, d):\n",
    "    \"\"\"concatenate list of strings into one string separated by delimeter\"\"\"\n",
    "    \n",
    "    return d.join(l_strings)"
   ]
  },
  {
   "cell_type": "code",
   "execution_count": 7,
   "id": "6f289f48",
   "metadata": {},
   "outputs": [
    {
     "name": "stdout",
     "output_type": "stream",
     "text": [
      "110 ns ± 3.38 ns per loop (mean ± std. dev. of 7 runs, 10,000,000 loops each)\n"
     ]
    }
   ],
   "source": [
    "%timeit ft_concatenate_join(string, name)"
   ]
  },
  {
   "cell_type": "markdown",
   "id": "d3a2a008",
   "metadata": {},
   "source": [
    "The implementation (**ft_concatenate_join**) above of **ft_concatenate** above runs faster than the suggested one. There is an improvement."
   ]
  },
  {
   "cell_type": "markdown",
   "id": "a37f59e7",
   "metadata": {},
   "source": [
    "### $\\textbf{Exercise 2}$\n",
    "\n",
    "In this exercise you will solve the following problem using two methods bruteforce mehode, and fast method.\n",
    "\n",
    "**Problem:** You are given a list of n integers, and your task is to calculate the number of distinct values in the list.\n",
    "\n",
    "**Example**\n",
    "- Input:\n",
    "5\n",
    "2 3 2 2 3\n",
    "\n",
    "- Output:\n",
    "2 ( 3 instead of 2 )\n",
    "\n",
    "**Implement the following methodes:**\n",
    "\n",
    "1. **bruteforce mehode:** create an empty list and start adding items for the given list without adding the previous item add, at the end the result list will contain unique values, print lenght of the list and you are done. \n",
    "2. **fast method** think of using Set data structure.\n",
    "\n",
    "- time the two methods, what do you think?"
   ]
  },
  {
   "cell_type": "markdown",
   "id": "844dd47f",
   "metadata": {},
   "source": [
    "### $\\textbf{Bruteforce method}$"
   ]
  },
  {
   "cell_type": "code",
   "execution_count": 8,
   "id": "da8e5f4d",
   "metadata": {},
   "outputs": [],
   "source": [
    "def distinct_brute(integers):\n",
    "    \"\"\"\n",
    "    Calculating the number of distinct values in the list(integers)\n",
    "    \n",
    "    \"\"\"\n",
    "    \n",
    "    distinct = []\n",
    "    for i in range(len(integers)):\n",
    "        if integers[i] not in distinct:\n",
    "            \n",
    "            distinct.append(integers[i])\n",
    "            \n",
    "    return len(distinct)"
   ]
  },
  {
   "cell_type": "code",
   "execution_count": 9,
   "id": "b67ba5b5",
   "metadata": {},
   "outputs": [
    {
     "data": {
      "text/plain": [
       "3"
      ]
     },
     "execution_count": 9,
     "metadata": {},
     "output_type": "execute_result"
    }
   ],
   "source": [
    "import numpy as np\n",
    "integers = np.array([5,2,3,2,2,3])\n",
    "distinct_brute(integers)"
   ]
  },
  {
   "cell_type": "code",
   "execution_count": 10,
   "id": "3046b075",
   "metadata": {},
   "outputs": [
    {
     "name": "stdout",
     "output_type": "stream",
     "text": [
      "1.43 µs ± 28.3 ns per loop (mean ± std. dev. of 7 runs, 1,000,000 loops each)\n"
     ]
    }
   ],
   "source": [
    "integers = np.array([5,2,3,2,2,3])\n",
    "%timeit distinct_brute(integers)"
   ]
  },
  {
   "cell_type": "markdown",
   "id": "6cc95785",
   "metadata": {},
   "source": [
    "### $\\textbf{Write fast method}$"
   ]
  },
  {
   "cell_type": "code",
   "execution_count": 11,
   "id": "25564538",
   "metadata": {},
   "outputs": [],
   "source": [
    "def distinct_fast(integers):\n",
    "    \"\"\"\n",
    "    Calculating the number of distinct values in the list(integers)\n",
    "    \n",
    "    \"\"\"\n",
    "    \n",
    "    distinct = set()\n",
    "    for i in range(len(integers)):\n",
    "        if integers[i] not in distinct:\n",
    "            \n",
    "            distinct.add(integers[i])\n",
    "            \n",
    "    return len(distinct)"
   ]
  },
  {
   "cell_type": "code",
   "execution_count": 12,
   "id": "1f7d62b4",
   "metadata": {},
   "outputs": [
    {
     "data": {
      "text/plain": [
       "3"
      ]
     },
     "execution_count": 12,
     "metadata": {},
     "output_type": "execute_result"
    }
   ],
   "source": [
    "integers = np.array([5,2,3,2,2,3])\n",
    "distinct_fast(integers)"
   ]
  },
  {
   "cell_type": "code",
   "execution_count": 13,
   "id": "4e8ccc0c",
   "metadata": {},
   "outputs": [
    {
     "name": "stdout",
     "output_type": "stream",
     "text": [
      "1.4 µs ± 34.5 ns per loop (mean ± std. dev. of 7 runs, 1,000,000 loops each)\n"
     ]
    }
   ],
   "source": [
    "integers = np.array([5,2,3,2,2,3])\n",
    "%timeit distinct_fast(integers)"
   ]
  },
  {
   "cell_type": "code",
   "execution_count": 14,
   "id": "098c810b",
   "metadata": {},
   "outputs": [],
   "source": [
    "\"\"\"Creat two random lists of numbers for testing\"\"\"\n",
    "\n",
    "integers = np.array([1,2,3,2,1,5,6,5,5,5])"
   ]
  },
  {
   "cell_type": "markdown",
   "id": "b6b86f02",
   "metadata": {},
   "source": [
    "### $\\textbf{Time the two methods\n",
    "}$"
   ]
  },
  {
   "cell_type": "code",
   "execution_count": 15,
   "id": "65cf8a6f",
   "metadata": {},
   "outputs": [
    {
     "name": "stdout",
     "output_type": "stream",
     "text": [
      "2.26 µs ± 69.5 ns per loop (mean ± std. dev. of 7 runs, 100,000 loops each)\n"
     ]
    }
   ],
   "source": [
    "%timeit distinct_brute(integers)"
   ]
  },
  {
   "cell_type": "code",
   "execution_count": 16,
   "id": "25b43ed4",
   "metadata": {},
   "outputs": [
    {
     "name": "stdout",
     "output_type": "stream",
     "text": [
      "2.2 µs ± 93 ns per loop (mean ± std. dev. of 7 runs, 100,000 loops each)\n"
     ]
    }
   ],
   "source": [
    "%timeit distinct_fast(integers)"
   ]
  },
  {
   "cell_type": "markdown",
   "id": "c16e687e",
   "metadata": {},
   "source": [
    "$\\textbf{The distinct_fast implementation runs a little bit faster than the distinct_brute.}$"
   ]
  },
  {
   "cell_type": "markdown",
   "id": "5a68762d",
   "metadata": {},
   "source": [
    "## $\\textbf{Cython exercises}$"
   ]
  },
  {
   "cell_type": "markdown",
   "id": "ba8d100f",
   "metadata": {},
   "source": [
    "### $\\textbf{Exercise 1}$"
   ]
  },
  {
   "cell_type": "markdown",
   "id": "a5cf5018",
   "metadata": {},
   "source": [
    "$\\textbf{1. load the cython extension}$"
   ]
  },
  {
   "cell_type": "code",
   "execution_count": 18,
   "id": "0910c268",
   "metadata": {},
   "outputs": [
    {
     "name": "stdout",
     "output_type": "stream",
     "text": [
      "The cython extension is already loaded. To reload it, use:\n",
      "  %reload_ext cython\n"
     ]
    }
   ],
   "source": [
    "%load_ext cython"
   ]
  },
  {
   "cell_type": "markdown",
   "id": "75576b84",
   "metadata": {},
   "source": [
    "2. Condidering the following polynome function:"
   ]
  },
  {
   "cell_type": "code",
   "execution_count": 19,
   "id": "d63e62d1",
   "metadata": {},
   "outputs": [],
   "source": [
    "def poly(a,b):\n",
    "    return 10.5 * a + 3 * (b**2)"
   ]
  },
  {
   "cell_type": "markdown",
   "id": "b2da1a74",
   "metadata": {},
   "source": [
    "- Create an equivalent Cython function of `poly` with name `poly_cy` without any cython improvement, just make its cell a cython cell."
   ]
  },
  {
   "cell_type": "code",
   "execution_count": 20,
   "id": "9f85b268",
   "metadata": {},
   "outputs": [],
   "source": [
    "%%cython\n",
    "\n",
    "def poly_cy(int a, int b):\n",
    "    return 10.5 * a + 3 * (b**2)"
   ]
  },
  {
   "cell_type": "markdown",
   "id": "779058dc",
   "metadata": {},
   "source": [
    "\n"
   ]
  },
  {
   "cell_type": "markdown",
   "id": "0cf47dbe",
   "metadata": {},
   "source": [
    "$\\textbf{3. time the performance of Python and Cython version of the function, what is the factor of speed up here between the two verions.}$"
   ]
  },
  {
   "cell_type": "code",
   "execution_count": 21,
   "id": "824387d6",
   "metadata": {},
   "outputs": [
    {
     "name": "stdout",
     "output_type": "stream",
     "text": [
      "3.41 µs ± 222 ns per loop (mean ± std. dev. of 7 runs, 100,000 loops each)\n"
     ]
    }
   ],
   "source": [
    "a, b =  np.array([899]), np.array([999])\n",
    "%timeit poly(a,b)"
   ]
  },
  {
   "cell_type": "code",
   "execution_count": 22,
   "id": "00fa93f8",
   "metadata": {},
   "outputs": [
    {
     "name": "stdout",
     "output_type": "stream",
     "text": [
      "122 ns ± 3.49 ns per loop (mean ± std. dev. of 7 runs, 10,000,000 loops each)\n"
     ]
    }
   ],
   "source": [
    "a, b =  np.array([899]), np.array([999])\n",
    "%timeit poly_cy(a,b)"
   ]
  },
  {
   "cell_type": "markdown",
   "id": "d686e9e3",
   "metadata": {},
   "source": [
    "$\\textbf{The cython implementation runs faster than the one in pure python.}$"
   ]
  },
  {
   "cell_type": "markdown",
   "id": "c7bae861",
   "metadata": {},
   "source": [
    "4. Now lets work on another examples using loop.\n",
    "    - rewrite the same function below fib that calculate fibonacci series using cython, but now try to add type for the variables used inside it, add a prefix `_cy` to your new cython function."
   ]
  },
  {
   "cell_type": "code",
   "execution_count": 23,
   "id": "6b4e1cc5",
   "metadata": {},
   "outputs": [],
   "source": [
    "def fib(n):\n",
    "    a, b = 1, 1\n",
    "    for i in range(n):\n",
    "        a, b = a + b, a\n",
    "\n",
    "    return a"
   ]
  },
  {
   "cell_type": "markdown",
   "id": "2ff39f10",
   "metadata": {},
   "source": [
    "$\\textbf{Cython version}$"
   ]
  },
  {
   "cell_type": "code",
   "execution_count": 24,
   "id": "598e7014",
   "metadata": {},
   "outputs": [],
   "source": [
    "%%cython\n",
    "\n",
    "def fib_cy(int n):\n",
    "    cdef int a = 1\n",
    "    cdef int b = 1\n",
    "    cdef int i\n",
    "    for i in range(n):\n",
    "        a, b = a + b, a\n",
    "\n",
    "    return a"
   ]
  },
  {
   "cell_type": "markdown",
   "id": "99c71881",
   "metadata": {},
   "source": [
    "- time the two function for fibonacci series, with n = 20, what is the factor of speed now, What do you think?"
   ]
  },
  {
   "cell_type": "code",
   "execution_count": 25,
   "id": "979bdfbb",
   "metadata": {},
   "outputs": [
    {
     "name": "stdout",
     "output_type": "stream",
     "text": [
      "1.02 µs ± 13.4 ns per loop (mean ± std. dev. of 7 runs, 1,000,000 loops each)\n"
     ]
    }
   ],
   "source": [
    "n = 20\n",
    "%timeit fib(n)"
   ]
  },
  {
   "cell_type": "code",
   "execution_count": 26,
   "id": "31fbf30b",
   "metadata": {},
   "outputs": [
    {
     "name": "stdout",
     "output_type": "stream",
     "text": [
      "64.1 ns ± 2 ns per loop (mean ± std. dev. of 7 runs, 10,000,000 loops each)\n"
     ]
    }
   ],
   "source": [
    "n = 20\n",
    "%timeit fib_cy(n)"
   ]
  },
  {
   "cell_type": "markdown",
   "id": "fd7b1edf",
   "metadata": {},
   "source": [
    "$\\textbf{The cython implementation runs faster than the one in pure python.}$"
   ]
  },
  {
   "cell_type": "markdown",
   "id": "8b57f304",
   "metadata": {},
   "source": [
    "5. Recursive functions are functions that call themselves during their execution. Another interesting property of the Fibonacci series is that it can be written as a recursive function. That’s because each item depends on the values of other items (namely item n-1 and item n-2)\n",
    "\n",
    "- Rewrite the fib function using recursion. Is it faster than the non-recursive version? Does Cythonizing it give even more of an advantage? "
   ]
  },
  {
   "cell_type": "code",
   "execution_count": 27,
   "id": "2fa18c9d",
   "metadata": {},
   "outputs": [],
   "source": [
    "def fib_recursive(n):\n",
    "    if (n <= 1):\n",
    "        return n\n",
    "    else:\n",
    "        return fib_recursive(n-1) + fib_recursive(n-2)"
   ]
  },
  {
   "cell_type": "code",
   "execution_count": 28,
   "id": "db9591e1",
   "metadata": {},
   "outputs": [],
   "source": [
    "%%cython\n",
    "\n",
    "def fib_recursive_cy(int n):\n",
    "    if (n <= 1):\n",
    "        return n\n",
    "    else:\n",
    "        return fib_recursive_cy(n-1) + fib_recursive_cy(n-2)"
   ]
  },
  {
   "cell_type": "code",
   "execution_count": 29,
   "id": "e19238ce",
   "metadata": {},
   "outputs": [
    {
     "name": "stdout",
     "output_type": "stream",
     "text": [
      "1.9 ms ± 15.1 µs per loop (mean ± std. dev. of 7 runs, 1,000 loops each)\n"
     ]
    }
   ],
   "source": [
    "n = 20\n",
    "%timeit fib_recursive(n)"
   ]
  },
  {
   "cell_type": "code",
   "execution_count": 30,
   "id": "dbe05298",
   "metadata": {},
   "outputs": [
    {
     "name": "stdout",
     "output_type": "stream",
     "text": [
      "513 µs ± 16.3 µs per loop (mean ± std. dev. of 7 runs, 1,000 loops each)\n"
     ]
    }
   ],
   "source": [
    "n = 20\n",
    "%timeit fib_recursive_cy(n)"
   ]
  },
  {
   "cell_type": "markdown",
   "id": "758f6b40",
   "metadata": {},
   "source": [
    "$\\textbf{Even the pure python implementation runs faster than the cython of the recursive one.}$"
   ]
  },
  {
   "cell_type": "markdown",
   "id": "e2c5667c",
   "metadata": {},
   "source": [
    "### $\\textbf{Exercise 2}$\n",
    "\n",
    "- Monte Carlo methods are a broad class of computational algorithms that rely on repeated random sampling to obtain numerical results. \n",
    "- One of the basic examples of getting started with the Monte Carlo algorithm is the estimation of Pi.\n",
    "\n",
    "**Estimation of Pi**\n",
    "\n",
    "- The idea is to simulate random (x, y) points in a 2-D plane with domain as a square of side 1 unit. \n",
    "- Imagine a circle inside the same domain with same diameter and inscribed into the square. \n",
    "- We then calculate the ratio of number points that lied inside the circle and total number of generated points. \n",
    "- Refer to the image below:\n",
    "\n",
    "![demo](../data/MonteCarloPlot.png)\n",
    "\n",
    "We know that area of the square is 1 unit sq while that of circle is $\\pi \\ast  (\\frac{1}{2})^{2} = \\frac{\\pi}{4}$. Now for a very large number of generated points,\n",
    "\n",
    "![demo](../data/MonteCarloCalc.png)\n",
    "\n",
    "\n",
    "## $\\textbf{The Algorithm}$\n",
    "\n",
    "1. Initialize cile_points, square_points and interval to 0.\n",
    "2. Generate random point x.\n",
    "3. Generate random point y.\n",
    "4. Calculate d = x*x + y*y.\n",
    "5. If d <= 1, increment circle_points.\n",
    "6. Increment square_points.\n",
    "7. Increment interval.\n",
    "8. If increment < NO_OF_ITERATIONS, repeat from 2.\n",
    "9. Calculate pi = 4*(circle_points/square_points).\n",
    "10. Terminate."
   ]
  },
  {
   "cell_type": "markdown",
   "id": "aac70cef",
   "metadata": {},
   "source": [
    "**Your mission:** time the function `monte_carlo_pi`, identify the bottlenecks and create a new version using cython functionality to speed up monte carlo simulation for PI, use 100,000 points and compare the speed up factor between python and cython, considering the following optimizations:\n",
    "- add type for variables used.\n",
    "- add type for the function\n",
    "- use c rand function instead of python rand function.\n",
    " \n",
    "*Hint: you can import function from C libraries using the following approach `from libc.<name of c library> cimport <library function name>`, replace the holders `<>` with the right identities for the current problem*"
   ]
  },
  {
   "cell_type": "code",
   "execution_count": 31,
   "id": "e0c2032b",
   "metadata": {},
   "outputs": [],
   "source": [
    "import random as rand\n",
    "\n",
    "def monte_carlo_pi(nsamples):\n",
    "    pi = 0.\n",
    "    \n",
    "    circle_points = 0\n",
    "    \n",
    "    for _ in range(nsamples):\n",
    "        x = rand.uniform(-1, 1)\n",
    "        y = rand.uniform(-1, 1)\n",
    "        d = (x*x) + (y*y)\n",
    "        \n",
    "        if d <= 1:\n",
    "            circle_points +=1\n",
    "            \n",
    "    pi = 4*(circle_points/nsamples)\n",
    "    \n",
    "    return pi"
   ]
  },
  {
   "cell_type": "code",
   "execution_count": 32,
   "id": "67babf82",
   "metadata": {},
   "outputs": [
    {
     "data": {
      "text/plain": [
       "3.1408"
      ]
     },
     "execution_count": 32,
     "metadata": {},
     "output_type": "execute_result"
    }
   ],
   "source": [
    "nsamples = 100_0000\n",
    "monte_carlo_pi(nsamples)"
   ]
  },
  {
   "cell_type": "code",
   "execution_count": 33,
   "id": "259dfe63",
   "metadata": {},
   "outputs": [
    {
     "name": "stdout",
     "output_type": "stream",
     "text": [
      "578 ms ± 23.4 ms per loop (mean ± std. dev. of 7 runs, 1 loop each)\n"
     ]
    }
   ],
   "source": [
    "nsamples = 100_0000\n",
    "%timeit monte_carlo_pi(nsamples)"
   ]
  },
  {
   "cell_type": "code",
   "execution_count": 34,
   "id": "d40a515c",
   "metadata": {},
   "outputs": [],
   "source": [
    "%%cython\n",
    "\n",
    "import random as rand\n",
    "\n",
    "def monte_carlo_pi_cy(int nsamples):\n",
    "    cdef float pi = 0.\n",
    "    \n",
    "    cdef int circle_points = 0\n",
    "    cdef float x\n",
    "    cdef float y\n",
    "\n",
    "    for _ in range(nsamples):\n",
    "        x = rand.uniform(-1, 1)\n",
    "        y = rand.uniform(-1, 1)\n",
    "        \n",
    "        if (x*x) + (y*y) <= 1:\n",
    "            circle_points +=1\n",
    "            \n",
    "    pi = 4*(circle_points/nsamples)\n",
    "    \n",
    "    return pi"
   ]
  },
  {
   "cell_type": "code",
   "execution_count": 35,
   "id": "34fee038",
   "metadata": {},
   "outputs": [
    {
     "data": {
      "text/plain": [
       "3.1401560306549072"
      ]
     },
     "execution_count": 35,
     "metadata": {},
     "output_type": "execute_result"
    }
   ],
   "source": [
    "nsamples = 100_0000\n",
    "monte_carlo_pi_cy(nsamples)"
   ]
  },
  {
   "cell_type": "code",
   "execution_count": 36,
   "id": "92196d24",
   "metadata": {},
   "outputs": [
    {
     "name": "stdout",
     "output_type": "stream",
     "text": [
      "566 ms ± 22.2 ms per loop (mean ± std. dev. of 7 runs, 1 loop each)\n"
     ]
    }
   ],
   "source": [
    "nsamples = 100_0000\n",
    "%timeit monte_carlo_pi(nsamples)"
   ]
  },
  {
   "cell_type": "code",
   "execution_count": 37,
   "id": "49a9ff43",
   "metadata": {},
   "outputs": [
    {
     "name": "stdout",
     "output_type": "stream",
     "text": [
      "389 ms ± 19.9 ms per loop (mean ± std. dev. of 7 runs, 1 loop each)\n"
     ]
    }
   ],
   "source": [
    "nsamples = 100_0000\n",
    "%timeit monte_carlo_pi_cy(nsamples)"
   ]
  },
  {
   "cell_type": "markdown",
   "id": "72a87ccb",
   "metadata": {},
   "source": [
    "$\\textbf{Cython implementation runs faster than the pure python one as shown above.}$"
   ]
  },
  {
   "cell_type": "markdown",
   "id": "926e2caf",
   "metadata": {},
   "source": [
    "## $\\textbf{Numba exercises}$"
   ]
  },
  {
   "cell_type": "markdown",
   "id": "6e3f0db2",
   "metadata": {},
   "source": [
    "### $\\textbf{Exercise 1}$\n",
    "\n",
    "Previously we considered how to approximateby Monte Carlo.\n",
    "\n",
    "- Use the same idea here, but make the code efficient using Numba.\n",
    "- Compare speed with and without Numba when the sample size is large."
   ]
  },
  {
   "cell_type": "code",
   "execution_count": 38,
   "id": "2b4c07b8",
   "metadata": {},
   "outputs": [],
   "source": [
    "from numba import njit\n",
    "\n",
    "@njit\n",
    "def monte_carlo_pi_numba(nsamples):\n",
    "    pi = 0.\n",
    "    \n",
    "    circle_points = 0\n",
    "    \n",
    "    for _ in range(nsamples):\n",
    "        x = rand.uniform(-1, 1)\n",
    "        y = rand.uniform(-1, 1)\n",
    "        d = (x*x) + (y*y)\n",
    "        \n",
    "        if d <= 1:\n",
    "            circle_points +=1\n",
    "            \n",
    "    pi = 4*(circle_points/nsamples)\n",
    "    \n",
    "    return pi"
   ]
  },
  {
   "cell_type": "code",
   "execution_count": 39,
   "id": "b9032a7d",
   "metadata": {},
   "outputs": [
    {
     "data": {
      "text/plain": [
       "3.142716"
      ]
     },
     "execution_count": 39,
     "metadata": {},
     "output_type": "execute_result"
    }
   ],
   "source": [
    "nsamples = 100_0000\n",
    "monte_carlo_pi_numba(nsamples)"
   ]
  },
  {
   "cell_type": "code",
   "execution_count": 40,
   "id": "9b1ab68e",
   "metadata": {},
   "outputs": [
    {
     "name": "stdout",
     "output_type": "stream",
     "text": [
      "10.8 ms ± 69.9 µs per loop (mean ± std. dev. of 7 runs, 100 loops each)\n"
     ]
    }
   ],
   "source": [
    "nsamples = 100_0000\n",
    "%timeit monte_carlo_pi_numba(nsamples)"
   ]
  },
  {
   "cell_type": "markdown",
   "id": "c7b57b24",
   "metadata": {},
   "source": [
    "$\\textbf{Numba does much better than both Cython and pure python implementations. }$"
   ]
  },
  {
   "cell_type": "markdown",
   "id": "80b2dfc0",
   "metadata": {},
   "source": [
    "## $\\textbf{Pyccel Exercises}$"
   ]
  },
  {
   "cell_type": "markdown",
   "id": "110bb770",
   "metadata": {},
   "source": [
    "### $\\textbf{Exercise 1}$\n",
    "\n",
    "considering the following algorithm for binomial coefficient implementation in python.\n",
    "```python\n",
    "def factorial(n : int) -> int:\n",
    "    # to be implemented\n",
    "\n",
    "def binomial_coefficient(n : int, k : int):\n",
    "    num = factorial(n)\n",
    "    den = factorial(k) * factorial(n - k)\n",
    "    return num // den\n",
    "```\n",
    "1. complete the factorial function using recursive methode.\n",
    "2. profile the `binomial_coefficient`.\n",
    "3. try to improve factorial function by using iterative method.\n",
    "4. Use pyccel to accelerate the function.\n",
    "5. compare the benchmark of the two version python vs pyccel."
   ]
  },
  {
   "cell_type": "code",
   "execution_count": 41,
   "id": "6aa7a553",
   "metadata": {},
   "outputs": [],
   "source": [
    "def factorial(n : int) -> int:\n",
    "    if n == 0:\n",
    "        return 1\n",
    "    return n*factorial(n-1)\n",
    "\n",
    "def binomial_coefficient(n : int, k : int):\n",
    "    num = factorial(n)\n",
    "    den = factorial(k) * factorial(n - k)\n",
    "    \n",
    "    return num // den"
   ]
  },
  {
   "cell_type": "code",
   "execution_count": 42,
   "id": "7a080ab6",
   "metadata": {},
   "outputs": [
    {
     "data": {
      "text/plain": [
       "100891344545564193334812497256"
      ]
     },
     "execution_count": 42,
     "metadata": {},
     "output_type": "execute_result"
    }
   ],
   "source": [
    "n, k = 100, 50\n",
    "binomial_coefficient(n, k)"
   ]
  },
  {
   "cell_type": "markdown",
   "id": "d91ccee3",
   "metadata": {},
   "source": [
    "$\\textbf{Profiling binomial_coefficient}$"
   ]
  },
  {
   "cell_type": "code",
   "execution_count": 43,
   "id": "f1e64f71",
   "metadata": {},
   "outputs": [
    {
     "name": "stdout",
     "output_type": "stream",
     "text": [
      "25.1 µs ± 1.07 µs per loop (mean ± std. dev. of 7 runs, 10,000 loops each)\n"
     ]
    }
   ],
   "source": [
    "n, k = 100, 50\n",
    "%timeit binomial_coefficient(n, k)"
   ]
  },
  {
   "cell_type": "code",
   "execution_count": 44,
   "id": "0ad4971e",
   "metadata": {},
   "outputs": [
    {
     "name": "stdout",
     "output_type": "stream",
     "text": [
      " "
     ]
    }
   ],
   "source": [
    "n, k = 100, 50\n",
    "%prun -s cumulative binomial_coefficient(n, k)"
   ]
  },
  {
   "cell_type": "code",
   "execution_count": 45,
   "id": "f7c8b06a",
   "metadata": {},
   "outputs": [],
   "source": [
    "n, k = 100, 50\n",
    "%lprun -f binomial_coefficient binomial_coefficient(n, k)"
   ]
  },
  {
   "cell_type": "code",
   "execution_count": 46,
   "id": "908ef10e",
   "metadata": {},
   "outputs": [
    {
     "data": {
      "image/png": "[encoded data removed]",
      "text/plain": [
       "<IPython.core.display.Image object>"
      ]
     },
     "execution_count": 46,
     "metadata": {},
     "output_type": "execute_result"
    }
   ],
   "source": [
    "file = \"profiling.png\"\n",
    "from IPython.display import Image\n",
    "Image(filename=file) "
   ]
  },
  {
   "cell_type": "markdown",
   "id": "7a82ed01",
   "metadata": {},
   "source": [
    "$\\textbf{The factorial function is consuming the whole itself.}$"
   ]
  },
  {
   "cell_type": "markdown",
   "id": "d5855334",
   "metadata": {},
   "source": [
    "### $\\textbf{Iterative method.}$"
   ]
  },
  {
   "cell_type": "code",
   "execution_count": 50,
   "id": "485c80b7",
   "metadata": {},
   "outputs": [],
   "source": [
    "def factorial_iterative(n : int) -> int:\n",
    "    \n",
    "    if n == 0 or n == 1:\n",
    "        return (1)\n",
    "    else:\n",
    "        res = 1\n",
    "        for i in range(1, n+1):\n",
    "            res *=i\n",
    "            \n",
    "        return res\n",
    "\n",
    "def binomial_coefficient_iterative(n : int, k : int):\n",
    "    num = factorial_iterative(n)\n",
    "    den = factorial_iterative(k) * factorial_iterative(n - k)\n",
    "    \n",
    "    return num // den"
   ]
  },
  {
   "cell_type": "code",
   "execution_count": 51,
   "id": "80a85030",
   "metadata": {},
   "outputs": [
    {
     "name": "stdout",
     "output_type": "stream",
     "text": [
      "27 µs ± 2.41 µs per loop (mean ± std. dev. of 7 runs, 10,000 loops each)\n"
     ]
    }
   ],
   "source": [
    "n, k = 100, 50\n",
    "%timeit binomial_coefficient(n, k)"
   ]
  },
  {
   "cell_type": "code",
   "execution_count": 52,
   "id": "4fe47307",
   "metadata": {},
   "outputs": [
    {
     "name": "stdout",
     "output_type": "stream",
     "text": [
      "12.7 µs ± 472 ns per loop (mean ± std. dev. of 7 runs, 100,000 loops each)\n"
     ]
    }
   ],
   "source": [
    "n, k = 100, 50\n",
    "%timeit binomial_coefficient_iterative(n, k)"
   ]
  },
  {
   "cell_type": "markdown",
   "id": "a86c4353",
   "metadata": {},
   "source": [
    "$\\textbf{The iterative method does a little bit better than the implementation using recursivity.}$"
   ]
  },
  {
   "cell_type": "markdown",
   "id": "eb2eb3f0",
   "metadata": {},
   "source": [
    "$\\textbf{Pyccel implementation}$"
   ]
  },
  {
   "cell_type": "code",
   "execution_count": 53,
   "id": "8a270480",
   "metadata": {},
   "outputs": [],
   "source": [
    "from pyccel.epyccel import epyccel\n",
    "\n",
    "def factorial_iterative_pyccel(n : 'int'):\n",
    "    \n",
    "    if n == 0 or n == 1:\n",
    "        return (1)\n",
    "    else:\n",
    "        res = 1\n",
    "        for i in range(1, n+1):\n",
    "            res *=i\n",
    "            \n",
    "        return res\n",
    "    "
   ]
  },
  {
   "cell_type": "code",
   "execution_count": 54,
   "id": "75729f02",
   "metadata": {},
   "outputs": [],
   "source": [
    "factorial_iterative_pyccel_90 = epyccel(factorial_iterative_pyccel)"
   ]
  },
  {
   "cell_type": "code",
   "execution_count": 55,
   "id": "d4d7c9d7",
   "metadata": {},
   "outputs": [
    {
     "name": "stdout",
     "output_type": "stream",
     "text": [
      "119 ns ± 0.898 ns per loop (mean ± std. dev. of 7 runs, 10,000,000 loops each)\n"
     ]
    }
   ],
   "source": [
    "n = 10\n",
    "%timeit factorial_iterative_pyccel_90(n)"
   ]
  },
  {
   "cell_type": "code",
   "execution_count": 439,
   "id": "a22f8217",
   "metadata": {},
   "outputs": [
    {
     "data": {
      "text/plain": [
       "3628800"
      ]
     },
     "execution_count": 439,
     "metadata": {},
     "output_type": "execute_result"
    }
   ],
   "source": [
    "n = 10\n",
    "factorial_iterative_pyccel_90(n)"
   ]
  },
  {
   "cell_type": "code",
   "execution_count": 440,
   "id": "bab9c38f",
   "metadata": {},
   "outputs": [],
   "source": [
    "def binomial_coefficient_iterative_pyccel(n : 'int', k : 'int'):\n",
    "    num = factorial_iterative_pyccel_90(n)\n",
    "    den = factorial_iterative_pyccel_90(k) * factorial_iterative_pyccel_90(n - k)\n",
    "    \n",
    "    return num // den"
   ]
  },
  {
   "cell_type": "code",
   "execution_count": 442,
   "id": "29a5ea6f",
   "metadata": {},
   "outputs": [
    {
     "name": "stdout",
     "output_type": "stream",
     "text": [
      "646 ns ± 19.7 ns per loop (mean ± std. dev. of 7 runs, 1,000,000 loops each)\n"
     ]
    }
   ],
   "source": [
    "n, k = 100, 50\n",
    "%timeit binomial_coefficient_iterative_pyccel(n, k)"
   ]
  },
  {
   "cell_type": "markdown",
   "id": "e2bc11a9",
   "metadata": {},
   "source": [
    "$\\textbf{Finally, pyccel does much better than the pure and iterative implementation.}$"
   ]
  }
 ],
 "metadata": {
  "hide_input": false,
  "kernelspec": {
   "display_name": "Python 3 (ipykernel)",
   "language": "python",
   "name": "python3"
  },
  "language_info": {
   "codemirror_mode": {
    "name": "ipython",
    "version": 3
   },
   "file_extension": ".py",
   "mimetype": "text/x-python",
   "name": "python",
   "nbconvert_exporter": "python",
   "pygments_lexer": "ipython3",
   "version": "3.8.10"
  }
 },
 "nbformat": 4,
 "nbformat_minor": 5
}
