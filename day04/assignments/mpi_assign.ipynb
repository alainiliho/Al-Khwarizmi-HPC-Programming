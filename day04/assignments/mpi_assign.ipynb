{
 "cells": [
  {
   "cell_type": "markdown",
   "id": "fbdd45d6",
   "metadata": {},
   "source": [
    "## $\\textbf{Exercise 1 Hello World}$\n",
    "\n",
    "1. Write an MPI program displaying the number of processes used for the execution and the rank of each process.\n",
    "2. Test the programs obtained with different numbers of threads for the parallel program.\n",
    "\n",
    "$\\textbf{Output Example}$\n",
    "```shell\n",
    "Hello from the rank 2 process\n",
    "Hello from the rank 0 process\n",
    "Hello from the rank 3 process\n",
    "Hello from the rank 1 process\n",
    "Parallel execution of hello_world with 4 process\n",
    "```\n",
    "*Note that the output order maybe different*"
   ]
  },
  {
   "cell_type": "code",
   "execution_count": 2,
   "id": "7d1f5fe0",
   "metadata": {},
   "outputs": [
    {
     "name": "stdout",
     "output_type": "stream",
     "text": [
      "Overwriting hello.py\n"
     ]
    }
   ],
   "source": [
    "%%file hello.py\n",
    "from mpi4py import MPI\n",
    "if __name__ == '__main__':\n",
    "    \n",
    "    COMM = MPI.COMM_WORLD\n",
    "    SIZE =  RANK = COMM.Get_size()\n",
    "    RANK = COMM.Get_rank()\n",
    "\n",
    "    print(f\"Hello from the rank {RANK} process\")\n",
    "\n",
    "    COMM.Barrier()\n",
    "    if RANK == 0:\n",
    "\n",
    "        print(f\"Parallel execution of hello_world with {SIZE} processes\")\n",
    "        "
   ]
  },
  {
   "cell_type": "code",
   "execution_count": 3,
   "id": "8351d303",
   "metadata": {},
   "outputs": [
    {
     "name": "stdout",
     "output_type": "stream",
     "text": [
      "Invalid MIT-MAGIC-COOKIE-1 keyHello from the rank 2 process\n",
      "Hello from the rank 0 process\n",
      "Hello from the rank 1 process\n",
      "Parallel execution of hello_world with 3 processes\n"
     ]
    }
   ],
   "source": [
    "# enter command for compile and run the program\n",
    "#!mpirun -n 2 python hello.py\n",
    "!mpirun -n 3 --allow-run-as-root python hello.py"
   ]
  },
  {
   "cell_type": "code",
   "execution_count": 4,
   "id": "393c9346",
   "metadata": {},
   "outputs": [
    {
     "name": "stdout",
     "output_type": "stream",
     "text": [
      "Invalid MIT-MAGIC-COOKIE-1 keyHello from the rank 1 process\n",
      "Hello from the rank 3 process\n",
      "Hello from the rank 2 process\n",
      "Hello from the rank 0 process\n",
      "Parallel execution of hello_world with 4 processes\n"
     ]
    }
   ],
   "source": [
    "!mpirun -n 4 --allow-run-as-root python hello.py"
   ]
  },
  {
   "cell_type": "code",
   "execution_count": 5,
   "id": "b9951ad6",
   "metadata": {},
   "outputs": [
    {
     "name": "stdout",
     "output_type": "stream",
     "text": [
      "Invalid MIT-MAGIC-COOKIE-1 keyHello from the rank 1 process\n",
      "Hello from the rank 0 process\n",
      "Parallel execution of hello_world with 2 processes\n"
     ]
    }
   ],
   "source": [
    "!mpirun -n 2 --allow-run-as-root python hello.py"
   ]
  },
  {
   "cell_type": "markdown",
   "id": "b84f07ab",
   "metadata": {},
   "source": [
    "## $\\textbf{Exercise 2 Sharing Data }$\n",
    "\n",
    "A common need is for one process to get data from the user, either by reading from the terminal or command line arguments, and then to distribute this information to all other processors.\n",
    "\n",
    "Write a program that reads an integer value from the terminal and distributes the value to all of the MPI processes. Each process should print out its rank and the value it received. Values should be read until a negative integer is given as input.\n",
    "\n",
    "You may want to use these MPI routines in your solution:\n",
    "`Get_rank` `Bcast` \n",
    "\n",
    "**Output Example**\n",
    "```shell\n",
    "10\n",
    "Process 0 got 10\n",
    "Process 1 got 10\n",
    "```"
   ]
  },
  {
   "cell_type": "code",
   "execution_count": 105,
   "id": "2a56fc53",
   "metadata": {},
   "outputs": [
    {
     "name": "stdout",
     "output_type": "stream",
     "text": [
      "Overwriting sharing.py\n"
     ]
    }
   ],
   "source": [
    "%%file sharing.py\n",
    "\n",
    "from mpi4py import MPI\n",
    "\n",
    "if __name__ == '__main__':\n",
    "    COMM = MPI.COMM_WORLD\n",
    "    RANK = COMM.Get_rank()\n",
    "\n",
    "    if RANK == 0 :\n",
    "        data_send = int(input(\" Enter data : \"))\n",
    "    else :\n",
    "        data_send = None\n",
    "\n",
    "    received = COMM.bcast(data_send , root=0)\n",
    "    print(\"\\n\")\n",
    "    print(f\"Proces {RANK} got {received}\".format(RANK, received))"
   ]
  },
  {
   "cell_type": "code",
   "execution_count": 106,
   "id": "55b16e7c",
   "metadata": {},
   "outputs": [
    {
     "name": "stdout",
     "output_type": "stream",
     "text": [
      "Invalid MIT-MAGIC-COOKIE-1 key\n",
      "\n",
      "Proces 0 got 77\n",
      "\n",
      "\n",
      "Proces 1 got 77\n",
      "\n",
      "\n",
      "Proces 2 got 77\n"
     ]
    }
   ],
   "source": [
    "# enter command for compile and run the program\n",
    "!mpirun -n 3 python sharing.py run in a terminal for the cas of the input function"
   ]
  },
  {
   "cell_type": "markdown",
   "id": "4af9501b",
   "metadata": {},
   "source": [
    "## $\\textbf{Exercise 3 Sending in a ring (broadcast by ring)}$\n",
    "\n",
    "Write a program that takes data from process zero and sends it to all of the other processes by sending it in a ring. That is, process i should receive the data and send it to process i+1, until the last process is reached.\n",
    "Assume that the data consists of a single integer. Process zero reads the data from the user.\n",
    "![](../data/ring.gif)\n",
    "\n",
    "You may want to use these MPI routines in your solution:\n",
    "`Send` `Recv` "
   ]
  },
  {
   "cell_type": "code",
   "execution_count": 97,
   "id": "5599dcd7",
   "metadata": {},
   "outputs": [
    {
     "name": "stdout",
     "output_type": "stream",
     "text": [
      "Overwriting ring.py\n"
     ]
    }
   ],
   "source": [
    "%%file ring.py\n",
    "\n",
    "from mpi4py import MPI\n",
    "\n",
    "COMM = MPI.COMM_WORLD\n",
    "RANK = COMM.Get_rank()\n",
    "SIZE = COMM.Get_size()\n",
    "\n",
    "if RANK == 0:\n",
    "    data_send = int(input(\"Enter data : \"))\n",
    "    COMM.send(data_send, dest = RANK+1)\n",
    "\n",
    "if RANK != 0:\n",
    "    RECEIVER = RANK - 1\n",
    "    received = COMM.recv(source=RECEIVER)\n",
    "    print(\"\\n\")\n",
    "    print(f\"Process {RANK} got {received} from process {RECEIVER}\".format(RANK, received, RECEIVER))\n",
    "\n",
    "    if RANK < SIZE - 1:\n",
    "        COMM.send(received, dest = RANK+1)"
   ]
  },
  {
   "cell_type": "code",
   "execution_count": 98,
   "id": "c8472373",
   "metadata": {},
   "outputs": [
    {
     "name": "stdout",
     "output_type": "stream",
     "text": [
      "Invalid MIT-MAGIC-COOKIE-1 key\n",
      "\n",
      "Process 1 got 77 from process 0\n",
      "\n",
      "\n",
      "Process 2 got 77 from process 1\n",
      "\n",
      "\n",
      "Process 3 got 77 from process 2\n"
     ]
    }
   ],
   "source": [
    "!mpirun -n 4 python ring.py "
   ]
  },
  {
   "cell_type": "markdown",
   "id": "ca50d352",
   "metadata": {},
   "source": [
    "## $\\textbf{Exercise 4 Matrix vector product}$\n",
    "\n",
    "1. Use the `MatrixVectorMult.py` file to implement the MPI version of matrix vector multiplication.\n",
    "2. Process 0 compares the result with the `dot` product.\n",
    "3. Plot the scalability of your implementation. \n",
    "\n",
    "**Output Example**\n",
    "```shell\n",
    "CPU time of parallel multiplication using 2 processes is  174.923446\n",
    "The error comparing to the dot product is : 1.4210854715202004e-14\n",
    "```"
   ]
  },
  {
   "cell_type": "code",
   "execution_count": 93,
   "id": "60219b50",
   "metadata": {},
   "outputs": [
    {
     "name": "stdout",
     "output_type": "stream",
     "text": [
      "Overwriting MatrixVectorMult_V0.py\n"
     ]
    }
   ],
   "source": [
    "%%file MatrixVectorMult_V0.py\n",
    "\n",
    "import time \n",
    "import numpy as np\n",
    "from scipy.sparse import lil_matrix\n",
    "from numpy.random import rand, seed\n",
    "from numba import njit\n",
    "from mpi4py import MPI\n",
    "\n",
    "COMM = MPI.COMM_WORLD\n",
    "PRECESSES = COMM.Get_size()\n",
    "RANK = COMM.Get_rank()\n",
    "\n",
    "\n",
    "def MatProduct(A, B, C):\n",
    "    \n",
    "    rows, columns = A.shape\n",
    "    for i in range(rows):\n",
    "        a = A[i]\n",
    "        for j in range(columns):\n",
    "            C[i] += a[j] * B[j]\n",
    "\n",
    "    return 0\n",
    "\n",
    "\n",
    "LENGTH = 1000\n",
    "LOCAL_LENGTH = LENGTH // PRECESSES\n",
    "\n",
    "process_block = LOCAL_LENGTH * LENGTH\n",
    "counts =  [process_block for i in range(PRECESSES)]\n",
    "\n",
    "if RANK == 0:\n",
    "    A = lil_matrix((LENGTH, LENGTH))\n",
    "    A[0, :100] = rand(100)\n",
    "    A[1, 100:200] = A[0, :100]\n",
    "\n",
    "    A.setdiag(rand(LENGTH))\n",
    "    A = A.toarray()\n",
    "    b = rand(LENGTH)\n",
    "else :\n",
    "    A = None\n",
    "    b = None\n",
    "\n",
    "localMatrix = np.empty((LOCAL_LENGTH, LENGTH), dtype = np.float64)\n",
    "b = COMM.bcast(b, root = 0)\n",
    "\n",
    "COMM.Scatterv([A, counts, MPI.DOUBLE], localMatrix, root = 0)\n",
    "\n",
    "localC = np.zeros(LOCAL_LENGTH)\n",
    "START = MPI.Wtime()\n",
    "MatProduct(localMatrix, b, localC)\n",
    "\n",
    "END = MPI.Wtime()\n",
    "if RANK == 0:\n",
    "    print(\"\\n\")\n",
    "    print(\"CPU time of parallel multiplication using\", PRECESSES,\"processes is \", (END - START)*1000)\n",
    "\n",
    "\n",
    "sendcounts = [LOCAL_LENGTH for i in range(PRECESSES)] \n",
    "if RANK == 0: \n",
    "    C = np.empty(LENGTH, dtype = np.float64)\n",
    "else :\n",
    "    C = None\n",
    "\n",
    "COMM.Gatherv(localC,[C, sendcounts, MPI.DOUBLE], root = 0)\n",
    "\n",
    "if RANK == 0 :\n",
    "    C_TRUE = A.dot(b)\n",
    "    print(\"The error comparing to the dot product is :\", np.max(C_TRUE - C))"
   ]
  },
  {
   "cell_type": "code",
   "execution_count": 94,
   "id": "d34806a3",
   "metadata": {},
   "outputs": [
    {
     "name": "stdout",
     "output_type": "stream",
     "text": [
      "Invalid MIT-MAGIC-COOKIE-1 key\n",
      "\n",
      "CPU time of parallel multiplication using 2 processes is  189.78453100000002\n",
      "The error comparing to the dot product is : 3.552713678800501e-15\n"
     ]
    }
   ],
   "source": [
    "# enter command for compile and run the program\n",
    "!mpirun -n 2 python MatrixVectorMult_V0.py"
   ]
  },
  {
   "cell_type": "code",
   "execution_count": 95,
   "id": "b56eb4b7",
   "metadata": {},
   "outputs": [
    {
     "name": "stdout",
     "output_type": "stream",
     "text": [
      "Invalid MIT-MAGIC-COOKIE-1 key\n",
      "\n",
      "CPU time of parallel multiplication using 3 processes is  122.155525\n",
      "The error comparing to the dot product is : 0.11809239991176056\n"
     ]
    }
   ],
   "source": [
    "# enter command for compile and run the program\n",
    "!mpirun -n 3 python MatrixVectorMult_V0.py"
   ]
  },
  {
   "cell_type": "code",
   "execution_count": 96,
   "id": "97f75296",
   "metadata": {},
   "outputs": [
    {
     "name": "stdout",
     "output_type": "stream",
     "text": [
      "Invalid MIT-MAGIC-COOKIE-1 key\n",
      "\n",
      "CPU time of parallel multiplication using 4 processes is  149.14102300000002\n",
      "The error comparing to the dot product is : 1.7763568394002505e-14\n"
     ]
    }
   ],
   "source": [
    "# enter command for compile and run the program\n",
    "!mpirun -n 4 python MatrixVectorMult_V0.py"
   ]
  },
  {
   "cell_type": "markdown",
   "id": "8f6ad2f4",
   "metadata": {},
   "source": [
    "## $\\textbf{Exercise 5 Calculation of π (Monte Carlo)}$\n",
    "\n",
    "1. Use the `PiMonteCarlo.py` file to implement the calculation of PI using Monte Carlo.\n",
    "2. Process 0 prints the result.\n",
    "3. Plot the scalability of your implementation. "
   ]
  },
  {
   "cell_type": "code",
   "execution_count": 91,
   "id": "ef8f0481",
   "metadata": {},
   "outputs": [
    {
     "name": "stdout",
     "output_type": "stream",
     "text": [
      "Overwriting PiMonteCarlo_V0.py\n"
     ]
    }
   ],
   "source": [
    "%%file PiMonteCarlo_V0.py\n",
    "\n",
    "import random \n",
    "import timeit\n",
    "from mpi4py import MPI\n",
    "\n",
    "COMM = MPI.COMM_WORLD\n",
    "PROCESSES = COMM.Get_size()\n",
    "RANK = COMM.Get_rank()\n",
    "\n",
    "INTERVAL = 1000 ** 2\n",
    "\n",
    "LOCAL_INT = INTERVAL // PROCESSES \n",
    "random.seed(42)  \n",
    "\n",
    "def generate_points():\n",
    "\n",
    "    points = 0\n",
    "    \n",
    "    for _ in range(LOCAL_INT):\n",
    "\n",
    "        x = random.uniform(0, 2) \n",
    "        y = random.uniform(0, 2) \n",
    "\n",
    "        if (x - 1)**2 + (y - 1)**2 <= 1: \n",
    "            points += 1\n",
    "    \n",
    "    return points \n",
    "\n",
    "\n",
    "start = timeit.default_timer()\n",
    "POINTS = generate_points()\n",
    "end = timeit.default_timer()\n",
    "\n",
    "POINTS = COMM.reduce(POINTS, op = MPI.SUM, root = 0)\n",
    "if RANK == 0:\n",
    "    \n",
    "    PI = 4 * POINTS/ INTERVAL\n",
    "    print(\"\\n\")\n",
    "    print(\"Circle points => \", POINTS)\n",
    "    print(\"PI estimation => \", PI)\n",
    "    print(\"CPU TIME => \", (end - start) * 1000)"
   ]
  },
  {
   "cell_type": "code",
   "execution_count": 92,
   "id": "5fba689e",
   "metadata": {},
   "outputs": [
    {
     "name": "stdout",
     "output_type": "stream",
     "text": [
      "Invalid MIT-MAGIC-COOKIE-1 key\n",
      "\n",
      "Circle points =>  785032\n",
      "PI estimation =>  3.140128\n",
      "CPU TIME =>  177.258093999626\n"
     ]
    }
   ],
   "source": [
    "# Running the above function\n",
    "!mpirun -n 4 python PiMonteCarlo_V0.py"
   ]
  }
 ],
 "metadata": {
  "hide_input": false,
  "kernelspec": {
   "display_name": "Python 3 (ipykernel)",
   "language": "python",
   "name": "python3"
  },
  "language_info": {
   "codemirror_mode": {
    "name": "ipython",
    "version": 3
   },
   "file_extension": ".py",
   "mimetype": "text/x-python",
   "name": "python",
   "nbconvert_exporter": "python",
   "pygments_lexer": "ipython3",
   "version": "3.8.10"
  }
 },
 "nbformat": 4,
 "nbformat_minor": 5
}
