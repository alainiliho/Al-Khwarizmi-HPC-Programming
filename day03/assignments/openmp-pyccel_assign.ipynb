{
 "cells": [
  {
   "cell_type": "markdown",
   "id": "f03849c1",
   "metadata": {},
   "source": [
    "$\\textbf{Note: all those exercises should be done using python with pyccel openmp}$"
   ]
  },
  {
   "cell_type": "markdown",
   "id": "a2db4b9c",
   "metadata": {},
   "source": [
    "## $\\textbf{Exercise 1 Hello World}$\n",
    "\n",
    "1. Write an OpenMP program displaying the number of threads used for the execution and the rank of each of the threads.\n",
    "3. Test the programs obtained with different numbers of threads for the parallel program.\n",
    "\n",
    "**Output Example**\n",
    "```shell\n",
    ">> Python hello.py\n",
    "Hello from the rank 2 thread\n",
    "Hello from the rank 0 thread\n",
    "Hello from the rank 3 thread\n",
    "Hello from the rank 1 thread\n",
    "Hello from the rank 4 thread\n",
    "Parallel execution of hello_world with 4 threads\n",
    "```\n",
    "*Note that the output order maybe different*"
   ]
  },
  {
   "cell_type": "code",
   "execution_count": 1,
   "id": "a7eeb409",
   "metadata": {},
   "outputs": [
    {
     "name": "stdout",
     "output_type": "stream",
     "text": [
      "Overwriting hello.py\n"
     ]
    }
   ],
   "source": [
    "%%file hello.py\n",
    "if __name__ ==\"__main__\":\n",
    "    from pyccel.stdlib.internal.openmp import(\n",
    "        omp_get_num_threads, omp_get_thread_num,\n",
    "        omp_in_parallel, omp_set_num_threads\n",
    "    )\n",
    "    #$omp parallel\n",
    "    \n",
    "    rank = omp_get_thread_num(), omp_get_num_threads()\n",
    "    print(\"Hello from the rank \",rank[0] , \"thread\")\n",
    "    \n",
    "    #$omp end parallel\n",
    "    \n",
    "    print(\"Parallel execution of hello_world with\",rank[1] ,\"threads\")\n"
   ]
  },
  {
   "cell_type": "code",
   "execution_count": 2,
   "id": "268e506d",
   "metadata": {},
   "outputs": [],
   "source": [
    "!pyccel --language=c hello.py --openmp"
   ]
  },
  {
   "cell_type": "code",
   "execution_count": 3,
   "id": "e51db5a5",
   "metadata": {},
   "outputs": [
    {
     "name": "stdout",
     "output_type": "stream",
     "text": [
      "Hello from the rank  2 thread\r\n",
      "Hello from the rank  5 thread\r\n",
      "Hello from the rank  3 thread\r\n",
      "Hello from the rank  7 thread\r\n",
      "Hello from the rank  4 thread\r\n",
      "Hello from the rank  6 thread\r\n",
      "Hello from the rank  1 thread\r\n",
      "Hello from the rank  0 thread\r\n",
      "Parallel execution of hello_world with 8 threads\r\n"
     ]
    }
   ],
   "source": [
    "! ./hello"
   ]
  },
  {
   "cell_type": "code",
   "execution_count": 4,
   "id": "ffa3a550",
   "metadata": {},
   "outputs": [],
   "source": [
    "import os\n",
    "import time\n",
    "import pyccel\n",
    "import numpy as np"
   ]
  },
  {
   "cell_type": "code",
   "execution_count": 5,
   "id": "2dff0fb7",
   "metadata": {},
   "outputs": [
    {
     "name": "stdout",
     "output_type": "stream",
     "text": [
      "Hello from the rank  0 thread\r\n",
      "Hello from the rank  3 thread\r\n",
      "Hello from the rank  1 thread\r\n",
      "Hello from the rank  2 thread\r\n",
      "Parallel execution of hello_world with 4 threads\r\n"
     ]
    }
   ],
   "source": [
    "os.environ['OMP_NUM_THREADS'] = \"4\"\n",
    "! ./hello"
   ]
  },
  {
   "cell_type": "code",
   "execution_count": 6,
   "id": "f6b75a6d",
   "metadata": {},
   "outputs": [
    {
     "name": "stdout",
     "output_type": "stream",
     "text": [
      "Hello from the rank  0 thread\r\n",
      "Hello from the rank  3 thread\r\n",
      "Hello from the rank  1 thread\r\n",
      "Hello from the rank  4 thread\r\n",
      "Hello from the rank  2 thread\r\n",
      "Parallel execution of hello_world with 5 threads\r\n"
     ]
    }
   ],
   "source": [
    "os.environ['OMP_NUM_THREADS'] = \"5\"\n",
    "! ./hello"
   ]
  },
  {
   "cell_type": "code",
   "execution_count": 7,
   "id": "803db8d4",
   "metadata": {},
   "outputs": [
    {
     "name": "stdout",
     "output_type": "stream",
     "text": [
      "Hello from the rank  0 thread\r\n",
      "Hello from the rank  2 thread\r\n",
      "Hello from the rank  6 thread\r\n",
      "Hello from the rank  7 thread\r\n",
      "Hello from the rank  4 thread\r\n",
      "Hello from the rank  5 thread\r\n",
      "Hello from the rank  3 thread\r\n",
      "Hello from the rank  1 thread\r\n",
      "Parallel execution of hello_world with 8 threads\r\n"
     ]
    }
   ],
   "source": [
    "os.environ['OMP_NUM_THREADS'] = \"8\"\n",
    "! ./hello"
   ]
  },
  {
   "cell_type": "markdown",
   "id": "0ee0d684",
   "metadata": {},
   "source": [
    "## $\\textbf{Exercise 2 Matrix product}$\n",
    "\n",
    "Considering the following code for matrix product:\n",
    "\n",
    "1. Using pyccel, epyccelize the `matrix_prod` function, and time the execution of epyccelized function.\n",
    "2. Insert the appropriate OpenMP directives and analyse the code performance.\n",
    "3. Test the loop iteration repartition modes (`STATIC`, `DYNAMIC`, `GUIDED`) and vary the chunk sizes.\n",
    "**Example output**\n",
    "\n",
    "```bash\n",
    "   Value of M and N           : 20 20 \n",
    "    Temps elapsed              : 0.0009012222290039062 \n",
    "    Temps CPU                  : 0.0 \n",
    "    Partiel results            : 2790.0 2690.0 ... -3610.0 -4350.0 \n",
    "\n",
    " Execution of Matrix production in parallele with                     8 threads\n",
    "```"
   ]
  },
  {
   "cell_type": "code",
   "execution_count": 8,
   "id": "e94defd2",
   "metadata": {},
   "outputs": [
    {
     "name": "stdout",
     "output_type": "stream",
     "text": [
      "Value of M and N  : 20 20\n",
      "Temps elapsed   : 0.005752086639404297\n",
      "Temps CPU : 0.006071681999999967\n",
      "Partiel results : [2620. 2790. 2960. 3130. 3300. 3470. 3640.]\n"
     ]
    }
   ],
   "source": [
    "def matrix_prod(A, B, C, N, M):\n",
    "    \n",
    "    for i in range( M ):\n",
    "        for j in range( N ):\n",
    "            A[ i, j ] = (i + 1) + (j + 1)\n",
    "    \n",
    "    for i in range( N ):\n",
    "        for j in range( M ):\n",
    "            B[ i, j ] = (i + 1) - (j + 1)\n",
    "    \n",
    "    for i in range( M ):\n",
    "        for j in range( M ):\n",
    "            C[ i, j ] = float(0)\n",
    "\n",
    "    # Matrix Production\n",
    "    for i in range( M ):\n",
    "        for j in range( M ):\n",
    "            for k in range( N ):\n",
    "                C[ i, j ] += A[ i, k ] * B[ k, j ]\n",
    "    \n",
    "    return C\n",
    "\n",
    "\n",
    "if __name__ == \"__main__\":\n",
    "    import numpy as np\n",
    "    import time\n",
    "    import math\n",
    "\n",
    "    M = 20\n",
    "    N = 20\n",
    "\n",
    "    # Declare Matrices\n",
    "    A = np.empty((M, N), dtype=np.double)\n",
    "    B = np.empty((N, M), dtype=np.double)\n",
    "    C = np.empty((M, M), dtype=np.double)\n",
    "    \n",
    "    #run and time the matrix_prod function\n",
    "    \n",
    "    elapsed_start = time.time()\n",
    "    cpu_start = time.process_time()\n",
    "    \n",
    "    res_mat = matrix_prod(A, B, C, N, M)\n",
    "    \n",
    "    \n",
    "    elapsed = time.time() - elapsed_start\n",
    "    cpu_time = time.process_time() - cpu_start\n",
    "\n",
    "    print(\"Value of M and N  :\",N, M)\n",
    "    print(\"Temps elapsed   :\", elapsed)\n",
    "    print(\"Temps CPU :\", cpu_time)\n",
    "    print(\"Partiel results :\", res_mat[:7, 1])"
   ]
  },
  {
   "cell_type": "markdown",
   "id": "fadadfe8",
   "metadata": {},
   "source": [
    "### $\\textbf{matrix_prod function pyccelization}$"
   ]
  },
  {
   "cell_type": "code",
   "execution_count": 9,
   "id": "7c1e6d60",
   "metadata": {},
   "outputs": [],
   "source": [
    "def matrix_prod_pyccel(A:'int[:,:]', B:'int[:,:]', C:'float[:,:]', N:'int', M:'int'):\n",
    "    \n",
    "    for i in range(M):\n",
    "        for j in range(N):\n",
    "            A[i, j] = (i+1) + (j+1)\n",
    "    \n",
    "    for i in range(N):\n",
    "        for j in range(M):\n",
    "            B[i, j] = (i+1) - (j+1)\n",
    "    \n",
    "    for i in range(N):\n",
    "        for j in range(M):\n",
    "            C[i, j] = float(0)\n",
    "    \n",
    "    # Matrix Production\n",
    "    for i in range(M):\n",
    "        for j in range(M):\n",
    "            for k in range(N):\n",
    "                C[i, j] = C[i, j] + A[i, k]*B[k, j]\n",
    "                "
   ]
  },
  {
   "cell_type": "code",
   "execution_count": 10,
   "id": "dd8141ac",
   "metadata": {},
   "outputs": [],
   "source": [
    "N, M = 5, 5\n",
    "A = np.empty((M, N), dtype=np.double)\n",
    "B = np.empty((N, M), dtype=np.double)\n",
    "C = np.empty((M, M), dtype=np.double)\n",
    "matrix_prod_pyccel(A,B,C,N,M)"
   ]
  },
  {
   "cell_type": "code",
   "execution_count": 11,
   "id": "fcc68e1c",
   "metadata": {},
   "outputs": [],
   "source": [
    "from pyccel.epyccel import epyccel"
   ]
  },
  {
   "cell_type": "code",
   "execution_count": 12,
   "id": "4d0c832a",
   "metadata": {},
   "outputs": [],
   "source": [
    "matrix_prod_pyccel_f90 = epyccel(matrix_prod_pyccel)"
   ]
  },
  {
   "cell_type": "code",
   "execution_count": 29,
   "id": "73dacc14",
   "metadata": {},
   "outputs": [
    {
     "name": "stdout",
     "output_type": "stream",
     "text": [
      "21.1 ns ± 1.64 ns per loop (mean ± std. dev. of 7 runs, 10,000,000 loops each)\n"
     ]
    }
   ],
   "source": [
    "%timeit matrix_prod"
   ]
  },
  {
   "cell_type": "code",
   "execution_count": 30,
   "id": "9d6bf994",
   "metadata": {},
   "outputs": [
    {
     "name": "stdout",
     "output_type": "stream",
     "text": [
      "20.5 ns ± 0.666 ns per loop (mean ± std. dev. of 7 runs, 100,000,000 loops each)\n"
     ]
    }
   ],
   "source": [
    "%timeit matrix_prod_pyccel_f90"
   ]
  },
  {
   "cell_type": "markdown",
   "id": "6f6b1fe1",
   "metadata": {},
   "source": [
    "### $\\textbf{matrix_prod using openmp}$"
   ]
  },
  {
   "cell_type": "code",
   "execution_count": 13,
   "id": "5122cafc",
   "metadata": {},
   "outputs": [
    {
     "name": "stdout",
     "output_type": "stream",
     "text": [
      "Value of M and N   : 20   20 \n",
      " Temps elapsed      : 2.288818359375e-05 \n",
      " Partiel results   : [[2850. 2620. 2390.]\n",
      " [3040. 2790. 2540.]\n",
      " [3230. 2960. 2690.]] \n",
      " Temps CPU : 2.631699999966486e-05 \n",
      "Execution of Matrix production in parallele with  4 threads\n"
     ]
    }
   ],
   "source": [
    "def matrix_prod_openmp(A:'float[:,:]', B:'float[:,:]', C:'float[:,:]', N:'int', M:'int', n_threads:'int'):\n",
    "    \n",
    "    \n",
    "    #$omp parallel num_threads(n_threads)\n",
    "    \n",
    "    #$omp for collapse(2) reduction (+:A) \n",
    "    for i in range( M ):\n",
    "        for j in range( N ):\n",
    "            A[ i, j ] = (i + 1) + (j + 1)\n",
    "\n",
    "    #$omp for collapse(2) reduction (+:B) \n",
    "    for i in range( N ):\n",
    "        for j in range( M ):\n",
    "            B[ i, j ] = (i + 1) - (j + 1)\n",
    "\n",
    "    #$omp for collapse(2)\n",
    "    for i in range( M ):\n",
    "        for j in range( M ):\n",
    "            C[ i, j ] = 0\n",
    "    \n",
    "\n",
    "    #$omp for collapse(3) reduction (*:C) reduction (+:C) \n",
    "    for i in range( M ):\n",
    "        for j in range( M ):\n",
    "            for k in range( N ):\n",
    "                C[ i, j ] += A[ i, k ] * B[ k, j ]\n",
    "                \n",
    "    #$ omp end parallel\n",
    "    \n",
    "if __name__ == \"__main__\":\n",
    "    \n",
    "    import numpy as np\n",
    "    import time\n",
    "    import math\n",
    "    from pyccel.epyccel import epyccel\n",
    "    import timeit\n",
    "\n",
    "    M = 20\n",
    "    N = 20\n",
    "    n_threads = 4\n",
    "\n",
    "    A = np.empty((M, N), dtype=np.double)\n",
    "    B = np.empty((N, M), dtype=np.double)\n",
    "    C = np.empty((M, M), dtype=np.double)\n",
    "    \n",
    "    f_exec = epyccel(matrix_prod_openmp, language=\"c\", accelerators=\"openmp\")\n",
    "    \n",
    "    CPU_start = time.process_time() \n",
    "    elapsed_start = time.time()\n",
    "    \n",
    "    f_exec(A, B, C, N, M, n_threads)\n",
    "    \n",
    "    CPU = time.process_time() - CPU_start #CPU time\n",
    "    elapsed = time.time() - elapsed_start #Elapsed time\n",
    "\n",
    "    print(\"Value of M and N   :\", M,\" \",N,'\\n',\n",
    "        \"Temps elapsed      :\", elapsed,  '\\n',\n",
    "        \"Partiel results   :\", C[:3,:3],    '\\n',\n",
    "        \"Temps CPU :\", CPU,        '\\n'\n",
    "        \"Execution of Matrix production in parallele with \",n_threads ,\"threads\"\n",
    "    )"
   ]
  },
  {
   "cell_type": "code",
   "execution_count": 14,
   "id": "436a6232",
   "metadata": {},
   "outputs": [],
   "source": [
    "import matplotlib.pyplot as plt\n",
    "font_axis = {\n",
    "    'family': 'sans-serif',\n",
    "    'color':  'black',\n",
    "    'weight': 'normal',\n",
    "    'size': 14,\n",
    "    }\n",
    "\n",
    "font_title = {\n",
    "    'family': 'sans-serif',\n",
    "    'color':  'black',\n",
    "    'weight': 'normal',\n",
    "    'size': 16,\n",
    "    }"
   ]
  },
  {
   "cell_type": "code",
   "execution_count": 15,
   "id": "d953f6c2",
   "metadata": {},
   "outputs": [],
   "source": [
    "if __name__ == \"__main__\":\n",
    "\n",
    "    n_threads = 16\n",
    "    elapsed_times = []\n",
    "    CPU_times = []\n",
    "\n",
    "    for i_thread in range(1, n_threads):\n",
    "\n",
    "        f_exec = epyccel(matrix_prod_openmp, language=\"c\", accelerators=\"openmp\")\n",
    "\n",
    "        CPU_start = time.process_time() \n",
    "        elapsed_start = time.time()\n",
    "\n",
    "        f_exec(A, B, C, N, M, i_thread)\n",
    "\n",
    "        CPU_times.append(time.process_time() - CPU_start)\n",
    "        elapsed_times.append(time.time() - elapsed_start)"
   ]
  },
  {
   "cell_type": "code",
   "execution_count": 16,
   "id": "e7d9512c",
   "metadata": {},
   "outputs": [
    {
     "data": {
      "image/png": "[encoded data removed]",
      "text/plain": [
       "<Figure size 936x504 with 1 Axes>"
      ]
     },
     "metadata": {
      "needs_background": "light"
     },
     "output_type": "display_data"
    }
   ],
   "source": [
    "plt.figure(figsize=(13, 7))\n",
    "threads = np.arange(1, n_threads, 1)\n",
    "plt.plot(threads, CPU_times, label='CPU time in secondes')\n",
    "plt.plot(threads, elapsed_times, label='Elapsed time in secondes')\n",
    "plt.xlabel(\"Number of threads\", fontdict=font_axis)\n",
    "plt.ylabel(\"Secondes\", fontdict=font_axis)\n",
    "plt.legend(fontsize=14)\n",
    "plt.show()"
   ]
  },
  {
   "cell_type": "markdown",
   "id": "db729e9b",
   "metadata": {},
   "source": [
    "## $\\textbf{Exercise 3 Jacobi method}$\n",
    "\n",
    "Considering the following code for a general linear system solver:\n",
    "\n",
    "$$ A \\times x = b $$\n",
    "\n",
    "using the Jacobi iterative method.\n",
    "In this exercice, you must solve the system in parallel\n",
    "   \n",
    "**Example Output**\n",
    "    \n",
    "```bash\n",
    "System size    : 20 \n",
    " Iterations     : 21 \n",
    " Stand          : 2.9100049961372497e-08 \n",
    " Elapsed Time   : 7.447303771972656 \n",
    " CPU time       : 0.921875 \n",
    "```"
   ]
  },
  {
   "cell_type": "code",
   "execution_count": 17,
   "id": "a8af86ef",
   "metadata": {},
   "outputs": [
    {
     "name": "stdout",
     "output_type": "stream",
     "text": [
      "System size    : 20 \n",
      " Iterations     : 21 \n",
      " Stand          : 0.00023089893788530333 \n",
      " Elapsed Time   : 0.3265419006347656 \n",
      " CPU time       : 0.04928736899999997 \n",
      "\n"
     ]
    }
   ],
   "source": [
    "def jacobi(a:'float[:,:]', b:'float[:]', x:'float[:]', n:'int', eps:'float', n_threads:'int'):\n",
    "    \n",
    "    import numpy as np\n",
    "    import math\n",
    "    x_courant = np.empty(n, dtype=np.double)\n",
    "    iteration = 0\n",
    "    \n",
    "    #$omp parallel num_threads(n_threads)\n",
    "    while(1):\n",
    "        iteration += 1\n",
    "        \n",
    "        #omp for collapse(2)\n",
    "        for i in range(n):\n",
    "            x_courant[i] = 0\n",
    "            for j in range(i):\n",
    "                x_courant[i] += a[ j, i ] * x[j]\n",
    "            \n",
    "            #omp for\n",
    "            for j in range(i + 1, n):\n",
    "                x_courant[i] += a[ j, i ] * x[j]\n",
    "\n",
    "            x_courant[i] = (b[i] - x_courant[i]) / a[ i, i ]\n",
    "\n",
    "        # Convergence test\n",
    "        absmax = 0.\n",
    "        #omp for\n",
    "        for i in range(n):\n",
    "            curr = math.fabs(x[i] - x_courant[i])\n",
    "            if curr > absmax:\n",
    "                absmax = curr\n",
    "        stand = absmax / n\n",
    "        if stand <= eps or iteration > n:\n",
    "            break\n",
    "\n",
    "        # copy x_courant into x\n",
    "        #omp for\n",
    "        for i in range(n):\n",
    "            x [i] = x_courant[i]\n",
    "    \n",
    "    #$omp end parallel\n",
    "    \n",
    "    return stand, iteration\n",
    "\n",
    "\n",
    "if __name__ == \"__main__\":\n",
    "\n",
    "    import numpy as np\n",
    "    import time, random, math, sys\n",
    "\n",
    "    # Matrix default dimension\n",
    "    n = 20\n",
    "    diag = 20\n",
    "    n_threads = 8\n",
    "\n",
    "    # Initialize of the matrices\n",
    "    np.random.seed(421)  # for reproductibles results\n",
    "    a = np.random.uniform(0, 1, size=(n, n))\n",
    "    b = np.random.uniform(0, 1, size=n)\n",
    "\n",
    "    # We strengthen the main diagonal of the matrix\n",
    "    for i in range(n):\n",
    "        a[ i, i ] += diag\n",
    "\n",
    "    # Initial solution\n",
    "    x = np.ones(n, dtype=np.double)\n",
    "\n",
    "    # start CPU timing\n",
    "    cpu_0 = time.process_time()\n",
    "\n",
    "    # start Wall timing\n",
    "    elapsed_0 = time.time()\n",
    "\n",
    "    # Pyccelize jacobi function\n",
    "    from pyccel.epyccel import epyccel\n",
    "    p_jacobi = epyccel(jacobi, language='c', accelerators=['openmp'])\n",
    "\n",
    "    eps = sys.float_info.epsilon\n",
    "\n",
    "    # -------------------- computing ------------------\n",
    "    stand, iteration = p_jacobi(a, b, x, n, eps, n_threads)\n",
    "    # ------------------ End computing ----------------\n",
    "\n",
    "    # CPU time\n",
    "    cpu_1 = time.process_time()\n",
    "    cpu = cpu_1 - cpu_0\n",
    "\n",
    "    # Wall timing\n",
    "    elapsed_1 = time.time()\n",
    "    elapsed = elapsed_1 - elapsed_0\n",
    "\n",
    "    print(\n",
    "        \"System size    :\", n,          '\\n',\n",
    "        \"Iterations     :\", iteration,  '\\n',\n",
    "        \"Stand          :\", stand,      '\\n',\n",
    "        \"Elapsed Time   :\", elapsed,    '\\n',\n",
    "        \"CPU time       :\", cpu,        '\\n'\n",
    "    )"
   ]
  },
  {
   "cell_type": "markdown",
   "id": "acd992ae",
   "metadata": {},
   "source": [
    "## $\\textbf{Exercise 4 Calculation of π}$\n",
    "\n",
    "The aim of this exercise is to calculate π by numerical integration knowing that Considering the following code for matrix product: $\\int_{0}^{1} \\frac{4}{1 + x^2} = {\\pi} $\n",
    "\n",
    "The following program is for calculating the value of\n",
    "π by the rectangle method (mid-point). Let $f(x) = \\frac{4}{1 + x^2} $\n",
    "2 be the function to integrate, N and $ h = \\frac{1}{N} $ (respectively) the number of points, and the discretization width on the integration\n",
    "interval $[0, 1]$.\n",
    "\n",
    "Analyse the performance of the codes, then optimise  your code using OpenMP directives."
   ]
  },
  {
   "cell_type": "code",
   "execution_count": 18,
   "id": "c2773e5e",
   "metadata": {},
   "outputs": [
    {
     "name": "stdout",
     "output_type": "stream",
     "text": [
      "Overwriting pi.py\n"
     ]
    }
   ],
   "source": [
    "%%file pi.py\n",
    "def f(a:'float'):\n",
    "    return 4.0 / (1. + a * a)\n",
    "\n",
    "def pi(n:'int', h:'float', n_threads:'int'):\n",
    "    \n",
    "    #$omp parallel num_threads(n_threads)\n",
    "    \n",
    "    #$omp for\n",
    "    for k in range(100):\n",
    "        Pi_calc = 0.\n",
    "        for i in range(n):\n",
    "            x = h * (i + 0.5)\n",
    "            Pi_calc += f(x)\n",
    "\n",
    "        Pi_calc = h * Pi_calc\n",
    "    \n",
    "    #$omp end parallel\n",
    "    \n",
    "    return Pi_calc"
   ]
  },
  {
   "cell_type": "code",
   "execution_count": 19,
   "id": "38eb3ebe",
   "metadata": {},
   "outputs": [
    {
     "name": "stdout",
     "output_type": "stream",
     "text": [
      "   Number of intervals        : 300 \n",
      "    | Pi_estime - Pi_calcule | : 0.009975347692542602 \n",
      "    Temps elapsed              : 0.0003044605255126953 \n",
      "    Temps CPU                  : 0.000304811000000349 \n",
      " Execution of PI in parallel with 8 threads\n"
     ]
    }
   ],
   "source": [
    "import time, math\n",
    "\n",
    "if __name__ == '__main__':\n",
    "    #                  __\n",
    "    #  But : calcul de || par la methode des rectangles (point milieu).\n",
    "    #\n",
    "    #                   / 1\n",
    "    #                  |       4            __\n",
    "    #                  |   ----------  dx = ||\n",
    "    #                  |    1 + x**2\n",
    "    #                 / 0\n",
    "\n",
    "\n",
    "    n = 300\n",
    "\n",
    "    # Length of the integration interval\n",
    "    h = 1.0 / n\n",
    "    n_threads = 8\n",
    "    \n",
    "    from pyccel.epyccel import epyccel\n",
    "    import pi\n",
    "    pyc_pi = epyccel(pi, language='c', accelerators=['openmp'])\n",
    "\n",
    "    # start timing\n",
    "    tcpu_0 = time.process_time() # CPU time\n",
    "    t_elapsed_0 = time.time()    # Wall time\n",
    "\n",
    "    # -------------------- computing ------------------\n",
    "\n",
    "    Pi_calc = pyc_pi.pi(n, h, n_threads)\n",
    "\n",
    "    # ------------------ End computing ----------------\n",
    "\n",
    "    # CPU time spent\n",
    "    tcpu_1 = time.process_time()\n",
    "    tcpu = tcpu_1 - tcpu_0\n",
    "\n",
    "    # Wall time spent\n",
    "    t_elapsed_1 = time.time()\n",
    "    t_elapsed = t_elapsed_1 - t_elapsed_0\n",
    "\n",
    "    # deviation between the estimated value and the calculated value of Pi\n",
    "    Pi_estime = math.acos(-1)\n",
    "    deviat = math.fabs(Pi_estime - Pi_calc)\n",
    "\n",
    "    # Print result\n",
    "    print(\n",
    "      \"   Number of intervals        :\", n,         \"\\n\",\n",
    "\t  \"   | Pi_estime - Pi_calcule | :\", deviat,    \"\\n\",\n",
    "\t  \"   Temps elapsed              :\", t_elapsed, \"\\n\",\n",
    "\t  \"   Temps CPU                  :\", tcpu,      \"\\n\",\n",
    "        \"Execution of PI in parallel with\", n_threads, \"threads\"\n",
    "\n",
    "    )"
   ]
  },
  {
   "cell_type": "markdown",
   "id": "54e9a63a",
   "metadata": {},
   "source": [
    "## $\\textbf{Exercise 5 Reduction of an array}$\n",
    "\n",
    "The given program contained in the `reduction_tab.py` file is extracted from a chemistry code. It reduces a three-dimensional array into a vector. The aim of this exercise is to parallelize this calculation kernel without changing the loop order in the provided code (i.e. k,j,i)\n",
    "\n",
    "1. Analyse the data-sharing attributes of the variables and adapt the source code so that the K outermost loop is parallelized.\n",
    "2. Compare the performance obtained by using the thread/core binding default execution on Ada and by using scatter binding. Suggest an explanation for the poor performance of the latter.\n",
    "3. Optimise the source code for the scatter mode with taking into account the memory affinity. Why does this third series of executions give the best performance "
   ]
  },
  {
   "cell_type": "code",
   "execution_count": 20,
   "id": "9b9fdd28",
   "metadata": {},
   "outputs": [
    {
     "name": "stdout",
     "output_type": "stream",
     "text": [
      "Overwriting reduction_tab.py\n"
     ]
    }
   ],
   "source": [
    "%%file reduction_tab.py\n",
    "\n",
    "def threads_num():\n",
    "    from pyccel.stdlib.internal.openmp import  omp_get_num_threads\n",
    "    return omp_get_num_threads()\n",
    "\n",
    "def initialize_table(tab:'float[:,:,:]', nmolec:'int', n:'int', nmol:'int'):\n",
    "    # Initialisation du tableau\n",
    "    # First-touch pour garantir un fonctionnement optimal sur les systemes NUMA\n",
    "    \n",
    "    #$omp parallel\n",
    "    #$omp for collapse(3)\n",
    "    for k in range(nmolec):\n",
    "        for j in range(n):\n",
    "            for i in range(nmol):\n",
    "                tab[ i,j,k ] = i + j + k\n",
    "                \n",
    "    #$omp end parallel\n",
    "\n",
    "\n",
    "def reduction(tab:'float[:,:,:]', tab1:'float[:]', tab2:'float[:]', nmolec:'int', nmol:'int', n:'int'):\n",
    "\n",
    "    #$omp parallel\n",
    "    #$omp for\n",
    "    for k in range(nmolec):\n",
    "        tab1[:nmol] = 0\n",
    "        \n",
    "        #omp for collapse(2) reduction(+:tab1)\n",
    "        for j in range(n):\n",
    "            for i in range(nmol):\n",
    "                tab1[i] = tab1[i] + tab[i,j,k]\n",
    "        tab2[:nmol] = tab2[:nmol] + 2 * tab1[:nmol]\n",
    "    \n",
    "    #$omp end parallel\n",
    "       "
   ]
  },
  {
   "cell_type": "code",
   "execution_count": 21,
   "id": "659bd746",
   "metadata": {
    "scrolled": true
   },
   "outputs": [
    {
     "name": "stdout",
     "output_type": "stream",
     "text": [
      "Execution of reduction table in parallele with 1 threads\n",
      "Temps elapsed  : 0.0072901248931884766 \n",
      " Temps CPU      : 0.040490580000000165 \n",
      " Erreur relative: 0.41267045454545453 \n",
      "\n"
     ]
    }
   ],
   "source": [
    "from os import error\n",
    "\n",
    "if __name__ == '__main__':\n",
    "    from pyccel.stdlib.internal.openmp import omp_set_num_threads\n",
    "\n",
    "    import numpy as np\n",
    "    import time\n",
    "\n",
    "    # default dimension\n",
    "    nmolec = 100\n",
    "    nmol   = 100\n",
    "    n      = 10\n",
    "\n",
    "    tab     = np.empty((nmol, n, nmolec), dtype=np.double)\n",
    "    tab1    = np.empty((nmol), dtype=np.double)\n",
    "    tab2    = np.zeros((nmol), dtype=np.double)\n",
    "\n",
    "    # pyccelize reduction tab module\n",
    "    from pyccel.epyccel import epyccel\n",
    "    import reduction_tab\n",
    "    \n",
    "    reduction = epyccel(reduction_tab, language='fortran', accelerators=['openmp'])\n",
    "    \n",
    "    print(\"Execution of reduction table in parallele with\", reduction.threads_num(), \"threads\")\n",
    "\n",
    "    # initialize tab \n",
    "    reduction.initialize_table(tab, nmol, n, nmolec)\n",
    "\n",
    "    # start timing\n",
    "    tcpu_0 = time.process_time() # CPU time\n",
    "    t_elapsed_0 = time.time()    # Wall time\n",
    "\n",
    "    # -------------------- computing ------------------\n",
    "    omp_set_num_threads(6)\n",
    "    reduction.reduction(tab, tab1, tab2, nmolec, nmol, n)\n",
    "    # ------------------ End computing ----------------\n",
    "\n",
    "    # CPU time spent\n",
    "    tcpu_1 = time.process_time()\n",
    "    tcpu = tcpu_1 - tcpu_0\n",
    "\n",
    "    # Wall time spent\n",
    "    t_elapsed_1 = time.time()\n",
    "    t_elapsed = t_elapsed_1 - t_elapsed_0\n",
    "\n",
    "    # verification of results\n",
    "    tab2c = np.zeros((nmol), dtype=np.double)\n",
    "    for k in range(nmolec):\n",
    "        tab1c = np.zeros((nmol), dtype=np.double)\n",
    "        for j in range(n):\n",
    "            for i in range(nmol):\n",
    "                tab1c[i] = tab1c[i] + tab[i, j, k]\n",
    "        tab2c [:] = tab2c[:nmol] + 2 * tab1c[:]\n",
    "    err = np.max(np.abs(tab2c - tab2) / np.abs(tab2c))\n",
    "    print(\n",
    "        \"Temps elapsed  :\", t_elapsed   , \"\\n\",\n",
    "        \"Temps CPU      :\", tcpu        , \"\\n\",\n",
    "        \"Erreur relative:\", err         , \"\\n\"\n",
    "    )"
   ]
  },
  {
   "cell_type": "markdown",
   "id": "4045d2e1",
   "metadata": {},
   "source": [
    "# $\\textbf{Exercise 6 Matrix product by the Strassen algorithm}$\n",
    "\n",
    "Considering the following code that calculates the matrix product :\n",
    "\n",
    "$$C = A \\times B$$\n",
    "\n",
    "by using Strassen’s recursive algorithm.\n",
    "\n",
    "In this exercise, you must :\n",
    "1. Analyse and parallelize the code by using OpenMP tasks.\n",
    "2. Measure the code performance and plot the speedup curves obtained."
   ]
  },
  {
   "cell_type": "code",
   "execution_count": 22,
   "id": "bd9c8a80",
   "metadata": {},
   "outputs": [],
   "source": [
    "import time, math\n",
    "import numpy as np\n",
    "\n",
    "def threads_num():\n",
    "    from pyccel.stdlib.internal.openmp import  omp_get_num_threads\n",
    "    return omp_get_num_threads()\n",
    "\n",
    "def strassen_multiply(A:'float[:,:]', B:'float[:,:]', C:'float[:,:]', n:'int'):\n",
    "    import numpy as np\n",
    "    \n",
    "    if n & 1 != 0  or n < 128:\n",
    "        C[:] = np.matmul(A, B)\n",
    "    else:\n",
    "        n2 = n // 2\n",
    "        A11 = A[ 0:n2, 0:n2 ]\n",
    "        A21 = A[ n2:n, 0:n2 ]\n",
    "        A12 = A[ 0:n2, n2:n ]\n",
    "        A22 = A[ n2:n, n2:n ]\n",
    "        B11 = B[ 0:n2, 0:n2 ]\n",
    "        B21 = B[ n2:n, 0:n2 ]\n",
    "        B12 = B[ 0:n2, n2:n ]\n",
    "        B22 = B[ n2:n, n2:n ]\n",
    "\n",
    "        Q1 = np.empty((n2, n2), dtype=np.double)\n",
    "        Q2 = np.empty((n2, n2), dtype=np.double)\n",
    "        Q3 = np.empty((n2, n2), dtype=np.double)\n",
    "        Q4 = np.empty((n2, n2), dtype=np.double)\n",
    "        Q5 = np.empty((n2, n2), dtype=np.double)\n",
    "        Q6 = np.empty((n2, n2), dtype=np.double)\n",
    "        Q7 = np.empty((n2, n2), dtype=np.double)\n",
    "        \n",
    "        strassen_multiply(A11+A22, B11+B22, Q1, n2)\n",
    "        strassen_multiply(A21+A22, B11, Q2, n2)\n",
    "        strassen_multiply(A11, B12-B22, Q3, n2)\n",
    "        strassen_multiply(A22, -B11+B21, Q4, n2) \n",
    "        strassen_multiply(A11+A12, B22, Q5, n2)\n",
    "        strassen_multiply(-A11+A21, B11+B12, Q6, n2)\n",
    "        strassen_multiply(A12-A22, B21+B22, Q7, n2)\n",
    "        C[   :n2,   :n2 ] = Q1+Q4-Q5+Q7\n",
    "        C[ n2: n,   :n2 ] = Q2+Q4\n",
    "        C[   :n2, n2:n  ] = Q3+Q5\n",
    "        C[ n2:n , n2:n  ] = Q1+Q3-Q2+Q6\n",
    "        \n",
    "def calcul_erreur(n, A, B, C):\n",
    "    D = np.matmul(A, B) \n",
    "    error = 0.0\n",
    "    for i in range(n):\n",
    "        for j in range(n):\n",
    "            e = C[ i, j ] - D[ i, j ]\n",
    "            error += e * e\n",
    "\n",
    "    error = math.sqrt(error) / n\n",
    "    return error"
   ]
  },
  {
   "cell_type": "code",
   "execution_count": 23,
   "id": "ef117842",
   "metadata": {},
   "outputs": [
    {
     "name": "stdout",
     "output_type": "stream",
     "text": [
      "Execution of Strassen in parallele with 1 threads\n",
      "   Erreur        : 3.377379142794413e-14 \n",
      "    Temps elapsed : 0.003322124481201172 \n",
      "    Temps CPU     : 0.0033694850000003385 \n",
      "\n"
     ]
    }
   ],
   "source": [
    "if __name__ == '__main__':\n",
    "    n = 256\n",
    "\n",
    "    # Initialize Matrices\n",
    "    np.random.seed(421)\n",
    "    A = np.random.uniform(0, 1, (n, n))\n",
    "    B = np.random.uniform(0, 1, (n, n))\n",
    "    C = np.empty((n,n), dtype=np.double)\n",
    "\n",
    "    from pyccel.epyccel import epyccel\n",
    "    strassen = epyccel(strassen_multiply, accelerators=['openmp'])\n",
    "    num_threads = epyccel(threads_num, accelerators=['openmp'])\n",
    "    print(\"Execution of Strassen in parallele with\", num_threads(), \"threads\")\n",
    "    \n",
    "    \n",
    "    # Start timing\n",
    "    tcpu_0 = time.process_time() # CPU time\n",
    "    t_elapsed_0 = time.time()    # Wall time\n",
    "    # -------------------- computing ------------------\n",
    "    # Calcul C=A*B par la methode recursive de Strassen\n",
    "    strassen(A, B, C, n)\n",
    "    # ------------------ end computing ----------------\n",
    "    # CPU time spent\n",
    "    tcpu_1 = time.process_time()\n",
    "    tcpu = tcpu_1 - tcpu_0\n",
    "\n",
    "    # Wall time spent\n",
    "    t_elapsed_1 = time.time()\n",
    "    t_elapsed = t_elapsed_1 - t_elapsed_0\n",
    "    # Print result\n",
    "    print(\n",
    "      \"   Erreur        :\", calcul_erreur(n, A, B, C),  \"\\n\",\n",
    "\t  \"   Temps elapsed :\", t_elapsed,                  \"\\n\",\n",
    "\t  \"   Temps CPU     :\", tcpu,                       \"\\n\",\n",
    "    )\n"
   ]
  }
 ],
 "metadata": {
  "kernelspec": {
   "display_name": "Python 3 (ipykernel)",
   "language": "python",
   "name": "python3"
  },
  "language_info": {
   "codemirror_mode": {
    "name": "ipython",
    "version": 3
   },
   "file_extension": ".py",
   "mimetype": "text/x-python",
   "name": "python",
   "nbconvert_exporter": "python",
   "pygments_lexer": "ipython3",
   "version": "3.8.10"
  }
 },
 "nbformat": 4,
 "nbformat_minor": 5
}
